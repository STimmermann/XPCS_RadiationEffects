{
 "cells": [
  {
   "cell_type": "markdown",
   "metadata": {},
   "source": [
    "# Dose estimations for egg white"
   ]
  },
  {
   "cell_type": "code",
   "execution_count": 2,
   "id": "c869f14b",
   "metadata": {},
   "outputs": [],
   "source": [
    "import numpy as np\n",
    "from scipy.constants import e #import charge of electron as e\n",
    "\n",
    "def Dose(t_meas,flux,photon_energy,cap_size,abs_wat,beam_size):\n",
    "    rho = 1000 #kg/m^3 sample mass density\n",
    "    return np.multiply(t_meas,flux*photon_energy*abs_wat/(beam_size*cap_size*rho))/1000 #return Dose in kGy\n",
    "\n",
    "def Dose_rate(flux,photon_energy,cap_size,abs_wat,beam_size):\n",
    "    rho = 1000 #kg/m^3 sample mass density\n",
    "    return flux*photon_energy*abs_wat/(beam_size*cap_size*rho)/1000 #return Dose in kGy/s"
   ]
  },
  {
   "cell_type": "code",
   "execution_count": 3,
   "id": "c3d89433",
   "metadata": {},
   "outputs": [],
   "source": [
    "flux = 6.0e10 #ph/s flux without absorber\n",
    "t_meas = 500 #s exposure time\n",
    "\n",
    "beam_size = 100e-06*100e-06 #m^2 beam area\n",
    "photon_energy = 8540*e #J photon energy\n",
    "cap_size = 0.0015 #m capillary thickness\n",
    "abs_wat = 0.722# absorption in 1.5mm of water\n",
    "\n",
    "absorbers = [0,1,2,4,6,8,12,16,18,24,32] #p10 absorber = number of 25 micron silicon wafers"
   ]
  },
  {
   "cell_type": "code",
   "execution_count": 4,
   "id": "bbf00bc3",
   "metadata": {},
   "outputs": [],
   "source": [
    "#get absorption of 1 silicon wafer\n",
    "transm_si = 0.732 # from https://web-docs.gsi.de/~stoe_exp/web_programs/x_ray_absorption/index.php"
   ]
  },
  {
   "cell_type": "code",
   "execution_count": 5,
   "id": "d50cc867",
   "metadata": {},
   "outputs": [
    {
     "name": "stdout",
     "output_type": "stream",
     "text": [
      "abs.\t reduced flux \t dose(500 s)(kGy) \t Dose/second(kGy/s)\n",
      "0\t 6.00E+10 \t 1975.77\t\t\t 3.95153\n",
      "1\t 4.39E+10 \t 1446.26\t\t\t 2.89252\n",
      "2\t 3.21E+10 \t 1058.66\t\t\t 2.11733\n",
      "4\t 1.72E+10 \t 567.26\t\t\t 1.13451\n",
      "6\t 9.23E+09 \t 303.95\t\t\t 0.60790\n",
      "8\t 4.95E+09 \t 162.86\t\t\t 0.32573\n",
      "12\t 1.42E+09 \t 46.76\t\t\t 0.09352\n",
      "16\t 4.08E+08 \t 13.42\t\t\t 0.02685\n",
      "18\t 2.18E+08 \t 7.19\t\t\t 0.01439\n",
      "24\t 3.36E+07 \t 1.11\t\t\t 0.00221\n",
      "32\t 2.77E+06 \t 0.09\t\t\t 0.00018\n"
     ]
    }
   ],
   "source": [
    "print(f'abs.\\t reduced flux \\t dose({t_meas} s)(kGy) \\t Dose/second(kGy/s)' )\n",
    "for ab in absorbers:\n",
    "    dose = Dose(t_meas,flux*(transm_si**ab),photon_energy,cap_size,abs_wat,beam_size)\n",
    "    dose_rate = Dose_rate(flux*(transm_si**ab),photon_energy,cap_size,abs_wat,beam_size)\n",
    "    print(f'{ab}\\t {flux*(transm_si**ab):.2E} \\t {dose:.2f}\\t\\t\\t {dose_rate:.5f}')"
   ]
  },
  {
   "cell_type": "markdown",
   "metadata": {},
   "source": [
    "# Fluence estimations for Chushkin et al."
   ]
  },
  {
   "cell_type": "code",
   "execution_count": 6,
   "id": "005a382f",
   "metadata": {},
   "outputs": [],
   "source": [
    "# yuriy estimations\n",
    "beam_size = 25e-06*25e-06 #m^2 beam area\n",
    "photon_energy = 9500*e #J photon energy\n",
    "cap_size = 0.0015 #m capillary thickness\n",
    "abs_wat = 0.6# absorption in 1.5mm of water"
   ]
  },
  {
   "cell_type": "markdown",
   "metadata": {},
   "source": [
    "$\\Phi=\\frac{\\mathscr{D}\\cdot z^2 \\cdot d \\cdot \\rho}{E_{ph}A}$"
   ]
  },
  {
   "cell_type": "code",
   "execution_count": 7,
   "id": "72e467f1",
   "metadata": {},
   "outputs": [],
   "source": [
    "def Flux(dose_rate,photon_energy,cap_size,abs_wat,beam_size): # calculate flux from dose rate\n",
    "    rho = 1000 #kg/m^3 sample mass density\n",
    "    return np.divide(dose_rate,photon_energy*abs_wat/(beam_size*cap_size*rho)/1000)"
   ]
  },
  {
   "cell_type": "code",
   "execution_count": 11,
   "id": "e0c3b35a",
   "metadata": {},
   "outputs": [
    {
     "name": "stdout",
     "output_type": "stream",
     "text": [
      "2.79E+00\n"
     ]
    }
   ],
   "source": [
    "# divide flux by beam size to obtain fluence\n",
    "print(f'{np.divide(Flux(1.7,photon_energy,cap_size,abs_wat,beam_size),beam_size*10**18):.2E}')"
   ]
  }
 ],
 "metadata": {
  "kernelspec": {
   "display_name": "Python 3",
   "language": "python",
   "name": "python3"
  },
  "language_info": {
   "codemirror_mode": {
    "name": "ipython",
    "version": 3
   },
   "file_extension": ".py",
   "mimetype": "text/x-python",
   "name": "python",
   "nbconvert_exporter": "python",
   "pygments_lexer": "ipython3",
   "version": "3.7.1"
  }
 },
 "nbformat": 4,
 "nbformat_minor": 5
}
